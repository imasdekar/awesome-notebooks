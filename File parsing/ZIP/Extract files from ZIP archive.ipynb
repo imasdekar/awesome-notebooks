{
 "cells": [
  {
   "cell_type": "markdown",
   "metadata": {},
   "source": [
    "# Extract files from ZIP archive"
   ]
  },
  {
   "cell_type": "code",
   "execution_count": 2,
   "metadata": {},
   "outputs": [],
   "source": [
    "import zipfile\n",
    "from io import BytesIO\n",
    "import re"
   ]
  },
  {
   "cell_type": "code",
   "execution_count": 3,
   "metadata": {},
   "outputs": [],
   "source": [
    "def extract_zip(filepath):\n",
    "    i = 0\n",
    "    with zipfile.ZipFile(filepath, \"r\") as zfile:\n",
    "        for name in zfile.namelist():\n",
    "            if re.search(r'\\.zip$', name) is not None:\n",
    "                zfiledata = BytesIO(zfile.read(name))\n",
    "                with zipfile.ZipFile(zfiledata) as zfile2:\n",
    "                    for name2 in zfile2.namelist():\n",
    "                        zfile2.extract(name2, path=\"../\", pwd=None)\n",
    "                        i=i+1\n",
    "    zfile.close()\n",
    "    print(\"Processing Completed. \"+str(i)+\" file(s) extracted\")"
   ]
  },
  {
   "cell_type": "code",
   "execution_count": 5,
   "metadata": {},
   "outputs": [
    {
     "name": "stdout",
     "output_type": "stream",
     "text": [
      "Processing Completed. 4062 file(s) extracted\n"
     ]
    }
   ],
   "source": [
    "extract_zip('bilans_saisis_20181231.zip')"
   ]
  },
  {
   "cell_type": "code",
   "execution_count": null,
   "metadata": {},
   "outputs": [],
   "source": []
  }
 ],
 "metadata": {
  "kernelspec": {
   "display_name": "Python 3",
   "language": "python",
   "name": "python3"
  },
  "language_info": {
   "codemirror_mode": {
    "name": "ipython",
    "version": 3
   },
   "file_extension": ".py",
   "mimetype": "text/x-python",
   "name": "python",
   "nbconvert_exporter": "python",
   "pygments_lexer": "ipython3",
   "version": "3.8.5"
  }
 },
 "nbformat": 4,
 "nbformat_minor": 4
}
