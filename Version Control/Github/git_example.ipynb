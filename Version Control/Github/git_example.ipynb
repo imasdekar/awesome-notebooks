{
 "cells": [
  {
   "cell_type": "markdown",
   "metadata": {},
   "source": [
    "# Perform Git basic actions\n",
    "(clone,commit,push,pull,checkout)"
   ]
  },
  {
   "cell_type": "markdown",
   "metadata": {},
   "source": [
    "### Git configuration"
   ]
  },
  {
   "cell_type": "code",
   "execution_count": 7,
   "metadata": {},
   "outputs": [],
   "source": [
    "config = {\n",
    "            'username':'< Your github username >',\n",
    "            'password':'< Your github password >',\n",
    "            'github_url':'< Github url >',\n",
    "            'branch':'< Github branch name >',\n",
    "            'target_folder':'< Folder name >',\n",
    "            'action':'< Github action >',\n",
    "            'commit_message':'< Your message for commit >'\n",
    "         }"
   ]
  },
  {
   "cell_type": "markdown",
   "metadata": {},
   "source": [
    "### Configuration attribute description\n",
    "- username : Git username\n",
    "- password : Git password\n",
    "- github_url : Git url to clone\n",
    "- branch : Branch name on which perform action\n",
    "- target_folder : Folder name of which clone,commit,push,pull,checkout has to be performed\n",
    "- action : Action you wish to perform **(clone,commit,push,pull,checkout)**\n",
    "- commit_message : Any message you wish to pass while commit"
   ]
  },
  {
   "cell_type": "markdown",
   "metadata": {},
   "source": [
    "### Execute Github connector"
   ]
  },
  {
   "cell_type": "code",
   "execution_count": 8,
   "metadata": {},
   "outputs": [
    {
     "name": "stdout",
     "output_type": "stream",
     "text": [
      "Checkout successful\n",
      "Commit successful!\n",
      "Push successful\n"
     ]
    }
   ],
   "source": [
    "from git_lib import Git\n",
    "# Initialize git\n",
    "git_instance = Git(config)"
   ]
  },
  {
   "cell_type": "code",
   "execution_count": null,
   "metadata": {},
   "outputs": [],
   "source": []
  }
 ],
 "metadata": {
  "kernelspec": {
   "display_name": "Python 3",
   "language": "python",
   "name": "python3"
  },
  "language_info": {
   "codemirror_mode": {
    "name": "ipython",
    "version": 3
   },
   "file_extension": ".py",
   "mimetype": "text/x-python",
   "name": "python",
   "nbconvert_exporter": "python",
   "pygments_lexer": "ipython3",
   "version": "3.8.5"
  }
 },
 "nbformat": 4,
 "nbformat_minor": 4
}
