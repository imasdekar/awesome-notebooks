{
 "cells": [
  {
   "cell_type": "markdown",
   "metadata": {},
   "source": [
    "## Connectors : Elasticsearch connector"
   ]
  },
  {
   "cell_type": "markdown",
   "metadata": {},
   "source": [
    "<img src=\"https://images.contentstack.io/v3/assets/bltefdd0b53724fa2ce/blt280217a63b82a734/5bbdaacf63ed239936a7dd56/elastic-logo.svg\" alt=\"drawing\" width=\"150\" align='left'/>"
   ]
  },
  {
   "cell_type": "markdown",
   "metadata": {},
   "source": [
    "### 1. Prerequisites"
   ]
  },
  {
   "cell_type": "markdown",
   "metadata": {},
   "source": [
    "- python3\n",
    "- ubuntu 18.04\n",
    "- java1.8"
   ]
  },
  {
   "cell_type": "markdown",
   "metadata": {},
   "source": [
    "### 2. Elasticsearch on local machine"
   ]
  },
  {
   "cell_type": "markdown",
   "metadata": {},
   "source": [
    "#### Install Linux packages"
   ]
  },
  {
   "cell_type": "markdown",
   "metadata": {},
   "source": [
    "```sh\n",
    "$ sudo apt update\n",
    "$ sudo apt-get install apt-transport-http\n",
    "$ wget -qO - https://artifacts.elastic.co/GPG-KEY-elasticsearch | sudo apt-key add -\n",
    "$ sudo add-apt-repository \"deb https://artifacts.elastic.co/packages/7.x/apt stable main\"\n",
    "$ sudo apt update\n",
    "$ sudo apt install elasticsearch \n",
    "```"
   ]
  },
  {
   "cell_type": "markdown",
   "metadata": {},
   "source": [
    "#### Check status of Elasticsearch server (Local)"
   ]
  },
  {
   "cell_type": "markdown",
   "metadata": {},
   "source": [
    "```sh\n",
    "$ sudo /etc/init.d/elasticsearch status\n",
    "```"
   ]
  },
  {
   "cell_type": "markdown",
   "metadata": {},
   "source": [
    "#### Start Elasticsearch server (Local)"
   ]
  },
  {
   "cell_type": "markdown",
   "metadata": {},
   "source": [
    "```sh\n",
    "$ sudo /etc/init.d/elasticsearch start\n",
    "```"
   ]
  },
  {
   "cell_type": "markdown",
   "metadata": {},
   "source": [
    "##### Note : Install Java 1.8 and set Java environment variables path"
   ]
  },
  {
   "cell_type": "markdown",
   "metadata": {},
   "source": [
    "### 3. Elasticsearch on cloud"
   ]
  },
  {
   "cell_type": "markdown",
   "metadata": {},
   "source": [
    "#### Step 1: Login to https://www.elastic.co/ and create a deployment"
   ]
  },
  {
   "cell_type": "markdown",
   "metadata": {},
   "source": [
    "#### Step 2: On successful deployment get credentials"
   ]
  },
  {
   "cell_type": "markdown",
   "metadata": {},
   "source": [
    "#### Step 3: Create Elasticsearch credentials JSON"
   ]
  },
  {
   "cell_type": "markdown",
   "metadata": {},
   "source": [
    "#### Credentials Json format"
   ]
  },
  {
   "cell_type": "markdown",
   "metadata": {},
   "source": [
    "```sh\n",
    "{\n",
    "\t\"endpoint\": \"< Elasticsearch endpoint from elasticsearch cloud >\",\n",
    "\t\"port\": \"< Port number as mentioned in elasticsearch cloud >\",\n",
    "\t\"user\": \"< User as mentioned in elasticsearch cloud >\",\n",
    "\t\"password\": \"< Elasticsearch cloud user password >\",\n",
    "\t\"protocol\": \"https\"\n",
    "}\n",
    "```"
   ]
  },
  {
   "cell_type": "markdown",
   "metadata": {},
   "source": [
    "### 4. Python connector for Elasticsearch"
   ]
  },
  {
   "cell_type": "code",
   "execution_count": 1,
   "metadata": {},
   "outputs": [
    {
     "name": "stdout",
     "output_type": "stream",
     "text": [
      "Establishing connection to Elasticsearch\n",
      "Connection established\n"
     ]
    }
   ],
   "source": [
    "from elasticsearchconnector import ElasticsearchConnector\n",
    "instance = ElasticsearchConnector(\"credentials.json\")"
   ]
  },
  {
   "cell_type": "code",
   "execution_count": null,
   "metadata": {},
   "outputs": [],
   "source": [
    "# Send data to Elasticsearch server\n",
    "# parameters = {'index':'< Name of the index >','type':' < Document name > '}\n",
    "parameters = {'index':'students','type':'engineering'}\n",
    "# data = { < Key value pairs > }\n",
    "data = {\"Name\": \"Poul\", \"Age\":20, \"address\": \"New york\"}\n",
    "result = instance.save_data(parameters,data)"
   ]
  },
  {
   "cell_type": "code",
   "execution_count": 2,
   "metadata": {},
   "outputs": [],
   "source": [
    "# Search data from Elasticsearch server\n",
    "# parameters = {'index':'< Name of the index >','type':' < Document name > '}\n",
    "parameters = {'index':'students','type':'engineering'}"
   ]
  },
  {
   "cell_type": "code",
   "execution_count": 3,
   "metadata": {},
   "outputs": [
    {
     "name": "stdout",
     "output_type": "stream",
     "text": [
      "Fetching data from Elasticsearch server\n",
      "{'took': 1, 'timed_out': False, '_shards': {'total': 1, 'successful': 1, 'skipped': 0, 'failed': 0}, 'hits': {'total': {'value': 1, 'relation': 'eq'}, 'max_score': 0.2876821, 'hits': [{'_index': 'students', '_type': 'engineering', '_id': 'likon3ABGm_dTYQjOEaE', '_score': 0.2876821, '_source': {'Name': 'Poul', 'Age': 20, 'address': 'New york'}}]}}\n"
     ]
    }
   ],
   "source": [
    "# Single search\n",
    "q1 = {\"query\": {\"match\": {'Name':'Poul'}}}\n",
    "result = instance.search_data(parameters,[q1],search_type='search')\n",
    "print(result)"
   ]
  },
  {
   "cell_type": "code",
   "execution_count": 7,
   "metadata": {},
   "outputs": [
    {
     "name": "stdout",
     "output_type": "stream",
     "text": [
      "Fetching data from Elasticsearch server\n",
      "[{'took': 3, 'responses': [{'took': 2, 'timed_out': False, '_shards': {'total': 1, 'successful': 1, 'skipped': 0, 'failed': 0}, 'hits': {'total': {'value': 1, 'relation': 'eq'}, 'max_score': 0.2876821, 'hits': [{'_index': 'students', '_type': 'engineering', '_id': 'likon3ABGm_dTYQjOEaE', '_score': 0.2876821, '_source': {'Name': 'Poul', 'Age': 20, 'address': 'New york'}}]}, 'status': 200}]}, {'took': 0, 'responses': [{'took': 0, 'timed_out': False, '_shards': {'total': 1, 'successful': 1, 'skipped': 0, 'failed': 0}, 'hits': {'total': {'value': 0, 'relation': 'eq'}, 'max_score': None, 'hits': []}, 'status': 200}]}]\n"
     ]
    }
   ],
   "source": [
    "# Multiple search\n",
    "q1 = {\"query\": {\"match\": {'Name':'Poul'}}}\n",
    "q2 = {\"query\": {\"match\": {'Age':27}}}\n",
    "result = instance.search_data(parameters,[q1,q2],search_type='msearch')\n",
    "print(result)"
   ]
  },
  {
   "cell_type": "code",
   "execution_count": null,
   "metadata": {},
   "outputs": [],
   "source": []
  }
 ],
 "metadata": {
  "kernelspec": {
   "display_name": "Python 3",
   "language": "python",
   "name": "python3"
  },
  "language_info": {
   "codemirror_mode": {
    "name": "ipython",
    "version": 3
   },
   "file_extension": ".py",
   "mimetype": "text/x-python",
   "name": "python",
   "nbconvert_exporter": "python",
   "pygments_lexer": "ipython3",
   "version": "3.8.5"
  }
 },
 "nbformat": 4,
 "nbformat_minor": 4
}
