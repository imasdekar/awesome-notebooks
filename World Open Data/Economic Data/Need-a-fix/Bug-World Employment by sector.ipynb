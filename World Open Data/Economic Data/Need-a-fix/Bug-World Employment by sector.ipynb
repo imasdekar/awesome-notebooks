{
 "cells": [
  {
   "cell_type": "markdown",
   "metadata": {},
   "source": [
    "# World Employment by sector"
   ]
  },
  {
   "cell_type": "markdown",
   "metadata": {
    "colab_type": "text",
    "id": "view-in-github"
   },
   "source": [
    "**Objective**\n",
    "\n",
    "This graph compares the world distribution of employment by sector with the country distribution. Select the country to visualize which sector is dominant.\n",
    "\n",
    "Data\n",
    "by countries, by region\n",
    "\n",
    "Source\n",
    "International Labour Organization, ILOSTAT database."
   ]
  },
  {
   "cell_type": "markdown",
   "metadata": {
    "colab_type": "text",
    "id": "NZ10KSUrKmDl"
   },
   "source": [
    "Video : \n",
    "https://drive.google.com/file/d/1AISsc-lc4-94Dj7LOQKBj3L7VgChkejG/view"
   ]
  },
  {
   "cell_type": "markdown",
   "metadata": {
    "colab_type": "text",
    "id": "wKcABFlkK-KU"
   },
   "source": [
    "*** Imports :**"
   ]
  },
  {
   "cell_type": "code",
   "execution_count": 3,
   "metadata": {
    "colab": {
     "base_uri": "https://localhost:8080/",
     "height": 34
    },
    "colab_type": "code",
    "id": "5yYpwt5UK4wM",
    "outputId": "be1d68fa-cd9c-4a70-8149-5b07664e2cd6"
   },
   "outputs": [],
   "source": [
    "import math\n",
    "import pandas as pd\n",
    "from datetime import datetime\n",
    "from plotly.offline import iplot, plot, download_plotlyjs, init_notebook_mode\n",
    "import plotly.graph_objects as go\n",
    "from plotly.subplots import make_subplots"
   ]
  },
  {
   "cell_type": "markdown",
   "metadata": {
    "colab_type": "text",
    "id": "Cy3r1yqAK_mc"
   },
   "source": [
    "*** Variables :**"
   ]
  },
  {
   "cell_type": "code",
   "execution_count": null,
   "metadata": {
    "colab": {},
    "colab_type": "code",
    "id": "EvyRTowELC1B"
   },
   "outputs": [],
   "source": [
    "URL = \"https://www.ilo.org/ilostat-files/Documents/Excel/MBI_33_EN.xlsx\"\n",
    "\n",
    "SELECTED_YEAR = 2019"
   ]
  },
  {
   "cell_type": "markdown",
   "metadata": {
    "colab_type": "text",
    "id": "r_uU55GTLDb7"
   },
   "source": [
    "*** Retrieving data :**"
   ]
  },
  {
   "cell_type": "code",
   "execution_count": null,
   "metadata": {
    "colab": {},
    "colab_type": "code",
    "id": "ZFcn_Ro7LI_H"
   },
   "outputs": [],
   "source": [
    "retrieved_data = pd.read_excel(URL, sep='\\t', parse_dates=[0],\n",
    "                     names=['COUNTRY','b','GENDER','YEAR','e','AGRICULTURE - FORESTRY - FISHING','MINING - QUARRYING','MANUFACTURING','UTILITIES','CONSTRUCTION',\n",
    "                            'WHOLESALE - RETAIL - REPAIR VEHICLES','TRANSPORT - STORAGE - COMMUNICATION','ACCOMODATION - FOOD SERVICES','FINANCE - INSURANCE',\n",
    "                            'REAL ESTATE - BUSINESS - ADMINISTRATION','PUBLIC ADMINISTRATION - DEFENCE - SOCIAL SECURITY','EDUCATION','HUMAN HEALTH - SOCIAL WORK',\n",
    "                            'OTHER SERVICES','t','u','v','w','x','y','z','aa','ab','ac','ad','ae','af','ag','ah'])\n",
    "\n"
   ]
  },
  {
   "cell_type": "markdown",
   "metadata": {
    "colab_type": "text",
    "id": "z4deKmaDME6S"
   },
   "source": [
    "*** Data selection :**"
   ]
  },
  {
   "cell_type": "code",
   "execution_count": null,
   "metadata": {
    "colab": {
     "base_uri": "https://localhost:8080/",
     "height": 586
    },
    "colab_type": "code",
    "id": "TdGGm-QjMFuU",
    "outputId": "e66b6a4f-daa2-46d1-9482-52e3f134c0b0"
   },
   "outputs": [],
   "source": [
    "# Select only rows with data\n",
    "data = retrieved_data.drop([0, 1, 2, 3, 4], axis = 0)\n",
    "\n",
    "# Select rows we want (\"Total\" of gender and no male nor female)\n",
    "data = data[data['GENDER'] == \"Total\"]\n",
    "\n",
    "# Select by year\n",
    "data = data[data['YEAR'] == SELECTED_YEAR]\n",
    "\n",
    "# Select only columns with interest\n",
    "df = data[['COUNTRY', 'AGRICULTURE - FORESTRY - FISHING','MINING - QUARRYING','MANUFACTURING','UTILITIES','CONSTRUCTION',\n",
    "              'WHOLESALE - RETAIL - REPAIR VEHICLES','TRANSPORT - STORAGE - COMMUNICATION','ACCOMODATION - FOOD SERVICES','FINANCE - INSURANCE',\n",
    "              'REAL ESTATE - BUSINESS - ADMINISTRATION','PUBLIC ADMINISTRATION - DEFENCE - SOCIAL SECURITY','EDUCATION','HUMAN HEALTH - SOCIAL WORK',\n",
    "              'OTHER SERVICES']]\n",
    "               \n",
    "df = df.set_index('COUNTRY')\n",
    "df"
   ]
  },
  {
   "cell_type": "markdown",
   "metadata": {
    "colab_type": "text",
    "id": "DIGEOJMfMCV0"
   },
   "source": [
    "*** Data formatting :**"
   ]
  },
  {
   "cell_type": "code",
   "execution_count": 4,
   "metadata": {
    "colab": {
     "base_uri": "https://localhost:8080/",
     "height": 1000
    },
    "colab_type": "code",
    "id": "-hfUVuk1MDJg",
    "outputId": "f5d934a0-f0f3-44f2-a881-8b7e79fe1cf4"
   },
   "outputs": [
    {
     "ename": "NameError",
     "evalue": "name 'df' is not defined",
     "output_type": "error",
     "traceback": [
      "\u001b[0;31m---------------------------------------------------------------------------\u001b[0m",
      "\u001b[0;31mNameError\u001b[0m                                 Traceback (most recent call last)",
      "\u001b[0;32m<ipython-input-4-d1204e2f5a93>\u001b[0m in \u001b[0;36m<module>\u001b[0;34m\u001b[0m\n\u001b[1;32m      2\u001b[0m \u001b[0;34m\u001b[0m\u001b[0m\n\u001b[1;32m      3\u001b[0m \u001b[0mSECTORS\u001b[0m \u001b[0;34m=\u001b[0m \u001b[0;34m[\u001b[0m\u001b[0;34m]\u001b[0m\u001b[0;34m\u001b[0m\u001b[0;34m\u001b[0m\u001b[0m\n\u001b[0;32m----> 4\u001b[0;31m \u001b[0;32mfor\u001b[0m \u001b[0mcol\u001b[0m \u001b[0;32min\u001b[0m \u001b[0mdf\u001b[0m\u001b[0;34m.\u001b[0m\u001b[0mcolumns\u001b[0m \u001b[0;34m:\u001b[0m\u001b[0;34m\u001b[0m\u001b[0;34m\u001b[0m\u001b[0m\n\u001b[0m\u001b[1;32m      5\u001b[0m   \u001b[0mSECTORS\u001b[0m\u001b[0;34m.\u001b[0m\u001b[0mappend\u001b[0m\u001b[0;34m(\u001b[0m\u001b[0mcol\u001b[0m\u001b[0;34m)\u001b[0m\u001b[0;34m\u001b[0m\u001b[0;34m\u001b[0m\u001b[0m\n\u001b[1;32m      6\u001b[0m \u001b[0;34m\u001b[0m\u001b[0m\n",
      "\u001b[0;31mNameError\u001b[0m: name 'df' is not defined"
     ]
    }
   ],
   "source": [
    "# Initialization of variables and functions\n",
    "\n",
    "SECTORS = []\n",
    "for col in df.columns :\n",
    "  SECTORS.append(col)\n",
    "\n",
    "indexstock = ['World', \"France\"]\n",
    "\n",
    "#***********************************************************************************\n",
    "# Initialization of graphs\n",
    "\n",
    "fig = make_subplots(rows=2, cols=2, \n",
    "                    specs=[[{'type': 'polar'}, {'type': 'polar'}],[{\"colspan\": 2}, None]],\n",
    "                    shared_xaxes=True, shared_yaxes=False, row_heights=[0.3, 0.7],\n",
    "                    vertical_spacing=0.11, horizontal_spacing=0.15)\n",
    "\n",
    "#***********************************************************************************\n",
    "# Add polar graphs\n",
    "\n",
    "fig.add_trace(go.Scatterpolar(r = df.loc[indexstock[0]], theta = SECTORS, fill = 'toself', name = indexstock[0], \n",
    "                                  marker_color='mediumpurple'), row = 1, col = 1)\n",
    "fig.add_trace(go.Scatterpolar(r = df.loc[indexstock[1]], theta = SECTORS, fill = 'toself', name = indexstock[1], \n",
    "                                  marker_color='indianred') ,row = 1, col = 2)\n",
    "\n",
    "#***********************************************************************************\n",
    "# Horizontal group bar graph \n",
    "\n",
    "# print(df.loc['World'])\n",
    "fig.add_trace(go.Bar(x=df.loc[indexstock[0]], y=SECTORS, orientation='h', name=indexstock[0], text=df.loc[indexstock[0]], \n",
    "                     textposition='auto', marker_color='mediumpurple'), row = 2, col = 1)\n",
    "fig.add_trace(go.Bar(x=df.loc[indexstock[1]], y=SECTORS, orientation='h', name=indexstock[1], text=df.loc[indexstock[1]], \n",
    "                     textposition='auto', marker_color='indianred'), row = 2, col = 1)\n",
    "\n",
    "#***********************************************************************************\n",
    "# Setting layout\n",
    "\n",
    "fig.update_layout(title_text=\"Differences of repartition of employement by country and sector au \" + str(datetime.today()) + \" (en %)\",\n",
    "                  title_x=0.5, width=1600, height=1000, \n",
    "                  showlegend=True, legend=dict(x=-.2, y=0.8),\n",
    "                  polar=dict(radialaxis=dict(visible=True)),\n",
    "                  barmode='group')\n",
    "\n",
    "#***********************************************************************************\n",
    "# Creationg buttons\n",
    "\n",
    "buttons_country_1 = []\n",
    "for index in df.index:\n",
    "  buttons_country_1.append(dict(method='restyle', label=index, args=[{'r':[df.loc[index]], 'x':[df.loc[index]], 'name':[index, index], 'text':[df.loc[index]]}, [0, 2]]))\n",
    "buttons_country_2 = []\n",
    "for index in df.index:\n",
    "  buttons_country_2.append(dict(method='restyle', label=index, args=[{'r':[df.loc[index]], 'x':[df.loc[index]], 'name':[index, index], 'text':[df.loc[index]]}, [1, 3]]))\n",
    "\n",
    "fig.update_layout(updatemenus=[dict(buttons=buttons_country_1, direction=\"down\", pad={\"r\": 1, \"t\": 1}, showactive=True, x=0.04, xanchor=\"left\", y=0.69, yanchor=\"top\"),\n",
    "                              dict(buttons=buttons_country_2, direction=\"down\", pad={\"r\": 1, \"t\": 1}, showactive=True, x=0.6, xanchor=\"left\", y=0.69, yanchor=\"top\")])\n",
    "\n",
    "#***********************************************************************************\n",
    "# Display graph\n",
    "\n",
    "fig.show()\n",
    "\n",
    "#***********************************************************************************\n",
    "# Export as HTML file\n",
    "\n",
    "Tickets_plot = fig\n",
    "plot(Tickets_plot, filename=\"/content/gdrive/My Drive/datamining/employement_by_sector_and_country.html\", auto_open=False)\n",
    "\n"
   ]
  },
  {
   "cell_type": "code",
   "execution_count": null,
   "metadata": {},
   "outputs": [],
   "source": []
  }
 ],
 "metadata": {
  "colab": {
   "collapsed_sections": [],
   "include_colab_link": true,
   "name": "Employement by country and sector.ipynb",
   "provenance": []
  },
  "kernelspec": {
   "display_name": "Python 3",
   "language": "python",
   "name": "python3"
  },
  "language_info": {
   "codemirror_mode": {
    "name": "ipython",
    "version": 3
   },
   "file_extension": ".py",
   "mimetype": "text/x-python",
   "name": "python",
   "nbconvert_exporter": "python",
   "pygments_lexer": "ipython3",
   "version": "3.8.5"
  }
 },
 "nbformat": 4,
 "nbformat_minor": 4
}
