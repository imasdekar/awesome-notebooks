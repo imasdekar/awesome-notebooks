{
 "cells": [
  {
   "cell_type": "markdown",
   "metadata": {
    "colab_type": "text",
    "id": "view-in-github"
   },
   "source": [
    "# Most populated countries ()"
   ]
  },
  {
   "cell_type": "markdown",
   "metadata": {
    "colab_type": "text",
    "id": "L2nNeWrpvvW6"
   },
   "source": [
    "**Notebook d'exemple pour classer les pays les plus peuplés**"
   ]
  },
  {
   "cell_type": "markdown",
   "metadata": {
    "colab_type": "text",
    "id": "YUZLmxmAGue9"
   },
   "source": [
    "**Sources:**\n",
    "OECD -> Organisation for economic co-operation and Development"
   ]
  },
  {
   "cell_type": "code",
   "execution_count": 1,
   "metadata": {
    "colab": {},
    "colab_type": "code",
    "id": "36x8J9u-oxbA"
   },
   "outputs": [
    {
     "ename": "ModuleNotFoundError",
     "evalue": "No module named 'pydrive'",
     "output_type": "error",
     "traceback": [
      "\u001b[0;31m---------------------------------------------------------------------------\u001b[0m",
      "\u001b[0;31mModuleNotFoundError\u001b[0m                       Traceback (most recent call last)",
      "\u001b[0;32m<ipython-input-1-b69d3b0c60d7>\u001b[0m in \u001b[0;36m<module>\u001b[0;34m\u001b[0m\n\u001b[1;32m      7\u001b[0m \u001b[0;32mimport\u001b[0m \u001b[0mplotly\u001b[0m\u001b[0;34m.\u001b[0m\u001b[0mgraph_objects\u001b[0m \u001b[0;32mas\u001b[0m \u001b[0mgo\u001b[0m\u001b[0;34m\u001b[0m\u001b[0;34m\u001b[0m\u001b[0m\n\u001b[1;32m      8\u001b[0m \u001b[0;32mimport\u001b[0m \u001b[0mplotly\u001b[0m\u001b[0;34m.\u001b[0m\u001b[0mexpress\u001b[0m \u001b[0;32mas\u001b[0m \u001b[0mpx\u001b[0m\u001b[0;34m\u001b[0m\u001b[0;34m\u001b[0m\u001b[0m\n\u001b[0;32m----> 9\u001b[0;31m \u001b[0;32mfrom\u001b[0m \u001b[0mpydrive\u001b[0m\u001b[0;34m.\u001b[0m\u001b[0mauth\u001b[0m \u001b[0;32mimport\u001b[0m \u001b[0mGoogleAuth\u001b[0m\u001b[0;34m\u001b[0m\u001b[0;34m\u001b[0m\u001b[0m\n\u001b[0m\u001b[1;32m     10\u001b[0m \u001b[0;32mfrom\u001b[0m \u001b[0mpydrive\u001b[0m\u001b[0;34m.\u001b[0m\u001b[0mdrive\u001b[0m \u001b[0;32mimport\u001b[0m \u001b[0mGoogleDrive\u001b[0m\u001b[0;34m\u001b[0m\u001b[0;34m\u001b[0m\u001b[0m\n\u001b[1;32m     11\u001b[0m \u001b[0;32mfrom\u001b[0m \u001b[0mgoogle\u001b[0m\u001b[0;34m.\u001b[0m\u001b[0mcolab\u001b[0m \u001b[0;32mimport\u001b[0m \u001b[0mauth\u001b[0m\u001b[0;34m\u001b[0m\u001b[0;34m\u001b[0m\u001b[0m\n",
      "\u001b[0;31mModuleNotFoundError\u001b[0m: No module named 'pydrive'"
     ]
    }
   ],
   "source": [
    "import pandas as pd\n",
    "import matplotlib.pyplot as plt\n",
    "%matplotlib inline\n",
    "import requests\n",
    "import io\n",
    "import numpy as np\n",
    "import plotly.graph_objects as go\n",
    "import plotly.express as px\n",
    "from pydrive.auth import GoogleAuth\n",
    "from pydrive.drive import GoogleDrive\n",
    "from google.colab import auth\n",
    "from oauth2client.client import GoogleCredentials\n",
    "from pandas import DataFrame\n",
    "import plotly.graph_objects as go"
   ]
  },
  {
   "cell_type": "markdown",
   "metadata": {
    "colab_type": "text",
    "id": "jV59hEGsoyDW"
   },
   "source": [
    "**On va chercher le fichier depuis GDrive**"
   ]
  },
  {
   "cell_type": "code",
   "execution_count": null,
   "metadata": {
    "colab": {},
    "colab_type": "code",
    "id": "z8v7HtRlo1Oj"
   },
   "outputs": [],
   "source": [
    "auth.authenticate_user()\n",
    "gauth = GoogleAuth()\n",
    "gauth.credentials = GoogleCredentials.get_application_default()\n",
    "drive = GoogleDrive(gauth)\n",
    "downloaded = drive.CreateFile({'id':\"1FjX4NTIq1z3zS9vCdAdpddtj9mKa0wIW\"})   # replace the id with id of file you want to access\n",
    "downloaded.GetContentFile('POP_PROJ_20042020112713800.csv')"
   ]
  },
  {
   "cell_type": "markdown",
   "metadata": {
    "colab_type": "text",
    "id": "UGz4KBl5o28h"
   },
   "source": [
    "**On stock la data dans une variable**"
   ]
  },
  {
   "cell_type": "code",
   "execution_count": null,
   "metadata": {
    "colab": {
     "base_uri": "https://localhost:8080/",
     "height": 419
    },
    "colab_type": "code",
    "id": "VDQ-_3hlo6M-",
    "outputId": "3df46693-b9ad-4fef-9002-221604a6cbfc"
   },
   "outputs": [],
   "source": [
    "data = pd.read_csv(\"POP_PROJ_20042020112713800.csv\", usecols=[\"Country\", \"Time\", \"Value\"])\n",
    "data.rename(columns = {'Country':'COUNTRY', 'Time':'TIME', \n",
    "                              'Value':'VALUE'}, inplace = True) \n",
    "data"
   ]
  },
  {
   "cell_type": "markdown",
   "metadata": {
    "colab_type": "text",
    "id": "0X1lLH4Po8Vi"
   },
   "source": [
    "**On fait la tambouille**"
   ]
  },
  {
   "cell_type": "code",
   "execution_count": null,
   "metadata": {
    "colab": {
     "base_uri": "https://localhost:8080/",
     "height": 359
    },
    "colab_type": "code",
    "id": "QZv6333yo-de",
    "outputId": "b175b18e-2f5b-476d-95fc-abfe3d4cd73f"
   },
   "outputs": [],
   "source": [
    "# Utilisation de Plotly, c'est bo!\n",
    "firstOccur = []\n",
    "secondOccur = []\n",
    "firstYear = 2000\n",
    "secondYear = 2030\n",
    "def tambouille_first(number1):\n",
    "  first = []\n",
    "  for index, row in data.iterrows():\n",
    "    if(row[\"TIME\"] == number1):\n",
    "      first.append(row)\n",
    "\n",
    "  first = DataFrame(first)\n",
    "  first = first.sort_values(by =\"VALUE\",ascending=True)\n",
    "  first = first.tail(10)\n",
    "  return first\n",
    "\n",
    "def tambouille_second(number2):\n",
    "  second = []\n",
    "  for index, row in data.iterrows():\n",
    "    if(row[\"TIME\"] == number2):\n",
    "      second.append(row)\n",
    "\n",
    "  second = DataFrame(second)\n",
    "  second =second.sort_values(by =\"VALUE\",ascending=True)\n",
    "  second = second.tail(10)\n",
    "  return second\n",
    "\n",
    "firstOccur = tambouille_first(firstYear)\n",
    "secondOccur = tambouille_second(secondYear)\n",
    "\n",
    "firstOccur\n"
   ]
  },
  {
   "cell_type": "markdown",
   "metadata": {
    "colab_type": "text",
    "id": "tm3z-gveo_3-"
   },
   "source": [
    "**On crée le schema**"
   ]
  },
  {
   "cell_type": "code",
   "execution_count": null,
   "metadata": {
    "colab": {
     "base_uri": "https://localhost:8080/",
     "height": 542
    },
    "colab_type": "code",
    "id": "pzEvYhKCpCRD",
    "outputId": "10b91cf7-3365-4efc-bb8d-d5f6c351ee03"
   },
   "outputs": [],
   "source": [
    "fig = go.Figure(data=[\n",
    "  go.Bar(name=str(firstYear), y=firstOccur[\"COUNTRY\"], x=firstOccur[\"VALUE\"],orientation='h'),\n",
    "  go.Bar(name=str(secondYear), y=secondOccur[\"COUNTRY\"], x=secondOccur[\"VALUE\"],orientation='h'),\n",
    "])\n",
    "fig.update_layout(title_text=\"TOP 10 des pays les plus peuplés en 2000 avec prévision 2030\", annotations=[\n",
    "        dict(\n",
    "            x=1,\n",
    "            y=-0.15,\n",
    "            showarrow=False,\n",
    "            text=\"Source : OECD -> 2019\",\n",
    "            xref=\"paper\",\n",
    "            yref=\"paper\"\n",
    "        )])\n",
    "fig.show()"
   ]
  },
  {
   "cell_type": "markdown",
   "metadata": {
    "colab_type": "text",
    "id": "SGVkFSfhQTDe"
   },
   "source": [
    "**Video d'explication de la démarche**\n",
    "https://drive.google.com/file/d/14QhRJTWxlV6HyHmrLuSGsJ6NuFrV2GCZ/view"
   ]
  }
 ],
 "metadata": {
  "colab": {
   "collapsed_sections": [],
   "include_colab_link": true,
   "name": "20200422_10_Tokyo_final1.ipynb",
   "provenance": []
  },
  "kernelspec": {
   "display_name": "Python 3",
   "language": "python",
   "name": "python3"
  },
  "language_info": {
   "codemirror_mode": {
    "name": "ipython",
    "version": 3
   },
   "file_extension": ".py",
   "mimetype": "text/x-python",
   "name": "python",
   "nbconvert_exporter": "python",
   "pygments_lexer": "ipython3",
   "version": "3.8.5"
  }
 },
 "nbformat": 4,
 "nbformat_minor": 4
}
