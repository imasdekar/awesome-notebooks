{
 "cells": [
  {
   "cell_type": "markdown",
   "metadata": {},
   "source": [
    "# Scrap Companies financials from Gsheet \n",
    "(Balance sheet, P&L, Cashflow)"
   ]
  },
  {
   "cell_type": "code",
   "execution_count": null,
   "metadata": {},
   "outputs": [],
   "source": [
    "! pip install pandas\n",
    "! pip install lxml\n",
    "! pip install gspread"
   ]
  },
  {
   "cell_type": "code",
   "execution_count": 4,
   "metadata": {},
   "outputs": [],
   "source": [
    "import yahoo_scraper"
   ]
  },
  {
   "cell_type": "markdown",
   "metadata": {},
   "source": [
    "- out_sheet_name - sheet name(workbook) where outpust shoud save\n",
    "- sheet_id - google sheet id. it can get from url of google sheet\n",
    "- input_sheet_name - name of sheet(workbook) where input symbols are there \n",
    "\n",
    "`make sure that the sheet has access to email which given in credetial.json file`"
   ]
  },
  {
   "cell_type": "code",
   "execution_count": 2,
   "metadata": {},
   "outputs": [],
   "source": [
    "sheet_id = \"10bmjq_bxj03WcQ11QPkE15HRQWZgWgz99mZSEIL5Hq0\"\n",
    "input_sheet_name =  \"TARGET_COMPANIES\"\n",
    "\n",
    "out_sheet_name = \"COMPANIES_FINANCIALS_TEST\""
   ]
  },
  {
   "cell_type": "code",
   "execution_count": 5,
   "metadata": {},
   "outputs": [
    {
     "name": "stdout",
     "output_type": "stream",
     "text": [
      "please wait...\n",
      "getting AC.PA\n",
      "getting AF.PA\n",
      "file Bulk-financials.xlsx created\n",
      "creating  COMPANIES_FINANCIALS_TEST\n",
      "created data in google sheet\n"
     ]
    }
   ],
   "source": [
    "yahoo_scraper.main(sheet_id,input_sheet_name,out_sheet_name)\n"
   ]
  },
  {
   "cell_type": "code",
   "execution_count": null,
   "metadata": {},
   "outputs": [],
   "source": []
  }
 ],
 "metadata": {
  "kernelspec": {
   "display_name": "Python 3",
   "language": "python",
   "name": "python3"
  },
  "language_info": {
   "codemirror_mode": {
    "name": "ipython",
    "version": 3
   },
   "file_extension": ".py",
   "mimetype": "text/x-python",
   "name": "python",
   "nbconvert_exporter": "python",
   "pygments_lexer": "ipython3",
   "version": "3.8.5"
  }
 },
 "nbformat": 4,
 "nbformat_minor": 4
}
