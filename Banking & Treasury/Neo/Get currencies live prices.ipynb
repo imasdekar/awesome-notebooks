{
 "cells": [
  {
   "cell_type": "markdown",
   "metadata": {},
   "source": [
    "# Get currencies live quotations"
   ]
  },
  {
   "cell_type": "code",
   "execution_count": null,
   "metadata": {},
   "outputs": [],
   "source": [
    "# !pip install requests"
   ]
  },
  {
   "cell_type": "code",
   "execution_count": 2,
   "metadata": {},
   "outputs": [],
   "source": [
    "# imports\n",
    "from pathlib import Path\n",
    "import pandas as pd\n",
    "import requests"
   ]
  },
  {
   "cell_type": "code",
   "execution_count": 3,
   "metadata": {},
   "outputs": [],
   "source": [
    "# api configurations\n",
    "ccy_pair = 'EUR/CHF'\n",
    "AUTH_HOST = \"https://auth.getneo.com\"\n",
    "DATA_HOST = \"https://data.getneo.com\"\n",
    "login_id = 'cashstory@getneo.com'\n",
    "api_key = 'iOAgIFzisHDHFUzGkHHXjDbmsZQXUuDl'\n",
    "bearer_token = None\n",
    "\n",
    "# output file config\n",
    "output_dir = Path(\"../data_output/\")\n",
    "output_file = f\"{ccy_pair.replace('/', '')}.csv\""
   ]
  },
  {
   "cell_type": "code",
   "execution_count": 4,
   "metadata": {},
   "outputs": [
    {
     "name": "stdout",
     "output_type": "stream",
     "text": [
      "Authenticated as cashstory@getneo.com\n"
     ]
    }
   ],
   "source": [
    "# Authenticate to get token\n",
    "if not bearer_token:\n",
    "    response = requests.get(f\"{AUTH_HOST}/api/v1/auth/login/\", params={\"login_id\": login_id, \"api_key\": api_key})\n",
    "    if response.status_code != 200:\n",
    "        raise PermissionError(f\"Failed to authenticate as {login_id}\")\n",
    "    print(f\"Authenticated as {login_id}\")\n",
    "\n",
    "    bearer_token = response.headers[\"Authorization\"]"
   ]
  },
  {
   "cell_type": "code",
   "execution_count": 5,
   "metadata": {},
   "outputs": [],
   "source": [
    "# Get data with token\n",
    "response = requests.get(f\"{DATA_HOST}/api/v1/prices/{ccy_pair}\", headers={\"Authorization\": bearer_token})\n",
    "if response.status_code != 200:\n",
    "    bearer_token = None\n",
    "    raise ValueError(f\"Failed to retrieve {ccy_pair} prices\")"
   ]
  },
  {
   "cell_type": "code",
   "execution_count": 6,
   "metadata": {},
   "outputs": [
    {
     "name": "stdout",
     "output_type": "stream",
     "text": [
      "Closing price for EUR/CHF on 2019-10-21: 1.0996\n",
      "Closing price for EUR/CHF on 2019-11-19: 1.0971\n"
     ]
    }
   ],
   "source": [
    "# Result\n",
    "prices_dict = response.json()\n",
    "prices = pd.DataFrame(data=list(prices_dict.items()), columns=[\"DATE\", \"VALUE\"])\n",
    "oldest_date = prices[\"DATE\"].min()\n",
    "print(f\"Closing price for {ccy_pair} on {oldest_date}: {prices_dict[oldest_date]}\")\n",
    "newest_date = prices[\"DATE\"].max()\n",
    "print(f\"Closing price for {ccy_pair} on {newest_date}: {prices_dict[newest_date]}\")"
   ]
  },
  {
   "cell_type": "code",
   "execution_count": 7,
   "metadata": {},
   "outputs": [],
   "source": [
    "# Saving output to file\n",
    "prices.to_csv(output_dir / output_file, index=False)"
   ]
  }
 ],
 "metadata": {
  "kernelspec": {
   "display_name": "Python 3",
   "language": "python",
   "name": "python3"
  },
  "language_info": {
   "codemirror_mode": {
    "name": "ipython",
    "version": 3
   },
   "file_extension": ".py",
   "mimetype": "text/x-python",
   "name": "python",
   "nbconvert_exporter": "python",
   "pygments_lexer": "ipython3",
   "version": "3.8.5"
  }
 },
 "nbformat": 4,
 "nbformat_minor": 4
}
